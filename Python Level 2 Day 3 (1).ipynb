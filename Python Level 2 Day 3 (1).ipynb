{
 "cells": [
  {
   "cell_type": "markdown",
   "metadata": {},
   "source": [
    "# What is Unit testing?\n",
    "A unit test is a way of testing a unit - the smallest piece of code that can be logically isolated in a system. In most programming languages, that is a function, a subroutine, a method or property. The isolated part of the definition is important. In his book \"Working Effectively with Legacy Code\", author Michael Feathers states that such tests are not unit tests when they rely on external systems: “If it talks to the database, it talks across the network, it touches the file system, it requires system configuration, or it can't be run at the same time as any other test.\"\n",
    "\n",
    "Ex: During the process of manufacturing a ballpoint pen, the cap, the body, the tail and clip, the ink cartridge and the ballpoint are produced separately and unit tested separately. Each piece is a different part of the pen, but all individuall made and test by themselves to see if they work alone. "
   ]
  },
  {
   "cell_type": "markdown",
   "metadata": {},
   "source": [
    "# What does Unit testing look like?\n",
    "A unit can be almost anything you want it to be -- a line of code, a method, or a class. Generally though, smaller is better. Smaller tests give you a much more granular view of how your code is performing. There is also the practical aspect that when you test very small units, your tests can be run fast; like a thousand tests in a second fast."
   ]
  },
  {
   "cell_type": "markdown",
   "metadata": {},
   "source": [
    "# Who should create the Unit tests?\n",
    "In his book, Real Time Business Systems, Robert V. Head says \"Frequently, unit testing is considered part of the programming phase, with the person that wrote the program...unit testing\". That isn't because programmers hold the secret sauce to unit testing, it's because it makes sense. The programmer that wrote the prod code will likely know how to access the parts that can be tested easily and how to mock objects that can't be accessed otherwise. It's a time trade off."
   ]
  },
  {
   "cell_type": "markdown",
   "metadata": {},
   "source": [
    "# Test Driven Development\n",
    "Test Driven Development, or TDD, is a code design technique where the programmer writes a test before any production code, and then writes the code that will make that test pass. The idea is that with a tiny bit of assurance from that initial test, the programmer can feel free to refactor and refactor some more to get the cleanest code they know how to write. The idea is simple, but like most simple things, the execution is hard. TDD requires a completely different mind set from what most people are used to and the tenacity to deal with a learning curve that may slow you down at first."
   ]
  },
  {
   "cell_type": "markdown",
   "metadata": {},
   "source": [
    "# Code Documentation\n",
    "Code documentation is a drag, and it shows, mostly by how little code documentation gets written. Unit testing can make the documentation burden a little easier by encouraging better coding practices and also leaving behind pieces of code that describe what your product is doing. Rather than having to constantly feed the documentation beast with code change, you'll be updating a system of checks that is working for you."
   ]
  },
  {
   "cell_type": "markdown",
   "metadata": {},
   "source": [
    "# Hierarchies\n",
    "\n",
    "<img src=\"http://softwaretestingfundamentals.com/wp-content/uploads/2010/12/unittesting.jpg\" width=\"300\" height=\"300\" align=\"left\"/>\n",
    "\n",
    "<!-- ![Image](http://softwaretestingfundamentals.com/wp-content/uploads/2010/12/unittesting.jpg) -->"
   ]
  },
  {
   "cell_type": "markdown",
   "metadata": {},
   "source": [
    "# Integration Testing \n",
    "Integration testing is a level of software testing where individual units are combined and tested as a group. The purpose of this level of testing is to expose faults in the interaction between integrated units. Test drivers and test stubs are used to assist in Integration Testing.\n",
    "\n",
    "Ex: During the process of manufacturing a ballpoint pen, the cap, the body, the tail and clip, the ink cartridge and the ballpoint are produced separately and unit tested separately. When two or more units are ready, they are assembled and Integration Testing is performed. For example, whether the cap fits into the body or not."
   ]
  },
  {
   "cell_type": "markdown",
   "metadata": {},
   "source": [
    "# System Testing\n",
    "System Testing is a level of software testing where a complete and integrated software is tested. The purpose of this test is to evaluate the system’s compliance with the specified requirements.\n",
    "\n",
    "Ex: During the process of manufacturing a ballpoint pen, the cap, the body, the tail, the ink cartridge and the ballpoint are produced separately and unit tested separately. When two or more units are ready, they are assembled and Integration Testing is performed. When the complete pen is integrated, System Testing is performed."
   ]
  },
  {
   "cell_type": "markdown",
   "metadata": {},
   "source": [
    "# Acceptance Testing\n",
    "Acceptance Testing is a level of software testing where a system is tested for acceptability. The purpose of this test is to evaluate the system’s compliance with the business requirements and assess whether it is acceptable for delivery.\n",
    "\n",
    "Ex: During the process of manufacturing a ballpoint pen, the cap, the body, the tail and clip, the ink cartridge and the ballpoint are produced separately and unit tested separately. When two or more units are ready, they are assembled and Integration Testing is performed. When the complete pen is integrated, System Testing is performed. Once System Testing is complete, Acceptance Testing is performed so as to confirm that the ballpoint pen is ready to be made available to the end-users."
   ]
  },
  {
   "cell_type": "markdown",
   "metadata": {},
   "source": [
    "Source: http://softwaretestingfundamentals.com/unit-testing/ , https://smartbear.com/learn/automated-testing/what-is-unit-testing/"
   ]
  },
  {
   "cell_type": "markdown",
   "metadata": {},
   "source": [
    "# Unit Testing Simple\n",
    "This is a code cell with a function that we will test and debug. If you uncomment the second last line the exectuion of a test case will halt just before the return statement and the [Python debugger](https://docs.python.org/3/library/pdb.html) (pdb) will start. You will get a pdb prompt that will allow you to inspect the values of a and b, step over lines, etc.\n",
    "\n",
    "Source: https://gist.github.com/SergiyKolesnikov/f94d91b947051ab5d2ba1aa30e25f050"
   ]
  },
  {
   "cell_type": "code",
   "execution_count": 1,
   "metadata": {},
   "outputs": [],
   "source": [
    "def add(a, b):\n",
    "    '''\n",
    "    This is the test:\n",
    "    >>> add(2, 2)\n",
    "    5\n",
    "    '''\n",
    "    #import pdb; pdb.set_trace() # Uncomment this line to start the PDB debugger at this point.\n",
    "    return a + b"
   ]
  },
  {
   "cell_type": "markdown",
   "metadata": {},
   "source": [
    "The next cell uses the [doctest module](https://docs.python.org/3.6/library/doctest.html) and runs the test case in the docstring of the `add()` function (and all other test cases in other docstrings if present). This cell will normally be the last one in a notebook."
   ]
  },
  {
   "cell_type": "code",
   "execution_count": 2,
   "metadata": {},
   "outputs": [
    {
     "name": "stdout",
     "output_type": "stream",
     "text": [
      "Trying:\n",
      "    add(2, 2)\n",
      "Expecting:\n",
      "    5\n",
      "**********************************************************************\n",
      "File \"__main__\", line 4, in __main__.add\n",
      "Failed example:\n",
      "    add(2, 2)\n",
      "Expected:\n",
      "    5\n",
      "Got:\n",
      "    4\n",
      "1 items had no tests:\n",
      "    __main__\n",
      "**********************************************************************\n",
      "1 items had failures:\n",
      "   1 of   1 in __main__.add\n",
      "1 tests in 2 items.\n",
      "0 passed and 1 failed.\n",
      "***Test Failed*** 1 failures.\n"
     ]
    },
    {
     "data": {
      "text/plain": [
       "TestResults(failed=1, attempted=1)"
      ]
     },
     "execution_count": 2,
     "metadata": {},
     "output_type": "execute_result"
    }
   ],
   "source": [
    "import doctest\n",
    "doctest.testmod(verbose=True)"
   ]
  },
  {
   "cell_type": "markdown",
   "metadata": {},
   "source": [
    "The next cell uses the [unittest module](https://docs.python.org/3.6/library/unittest.html) to test the `add()` function. In the class `TestNotebook` we define one test case (`test_add`) for the `add()` function. The last line in the cell runs all test cases when the cell is executed. This cell will normally be the last one in a notebook."
   ]
  },
  {
   "cell_type": "code",
   "execution_count": 3,
   "metadata": {},
   "outputs": [
    {
     "name": "stderr",
     "output_type": "stream",
     "text": [
      "test_add (__main__.TestNotebook) ... FAIL\n",
      "\n",
      "======================================================================\n",
      "FAIL: test_add (__main__.TestNotebook)\n",
      "----------------------------------------------------------------------\n",
      "Traceback (most recent call last):\n",
      "  File \"<ipython-input-3-3c7fcaf6ec27>\", line 6, in test_add\n",
      "    self.assertEqual(add(2, 2), 5)\n",
      "AssertionError: 4 != 5\n",
      "\n",
      "----------------------------------------------------------------------\n",
      "Ran 1 test in 0.002s\n",
      "\n",
      "FAILED (failures=1)\n"
     ]
    },
    {
     "data": {
      "text/plain": [
       "<unittest.main.TestProgram at 0x2ffd4ca988>"
      ]
     },
     "execution_count": 3,
     "metadata": {},
     "output_type": "execute_result"
    }
   ],
   "source": [
    "import unittest\n",
    "\n",
    "class TestNotebook(unittest.TestCase):\n",
    "    \n",
    "    def test_add(self):\n",
    "        self.assertEqual(add(2, 2), 5)\n",
    "        \n",
    "\n",
    "unittest.main(argv=[''], verbosity=2, exit=False)"
   ]
  },
  {
   "cell_type": "markdown",
   "metadata": {},
   "source": [
    "# Levels of verbosity\n",
    "### Verbosity = 0 (quiet) – get the total numbers of tests executed and the global result\n",
    "\n",
    "![Image](https://www.vitoshacademy.com/wp-content/uploads/2019/12/unittest_verbosity0.png)\n",
    "\n",
    "### Verbosity = 1 (default) – quiet + a dot for every successful test or a F for every failure\n",
    "\n",
    "![Image](https://www.vitoshacademy.com/wp-content/uploads/2019/12/unittest_verbosity1.png)\n",
    "\n",
    "### Verbosity = 2 (verbose) – help string of every test and the result\n",
    "\n",
    "![Image](https://www.vitoshacademy.com/wp-content/uploads/2019/12/unittest_verbosity2.png)\n",
    "\n",
    "\n",
    "Source: https://www.vitoshacademy.com/python-unittests-in-jupyter-notebook/"
   ]
  },
  {
   "cell_type": "code",
   "execution_count": 6,
   "metadata": {},
   "outputs": [],
   "source": [
    "import requests\n",
    "\n",
    "\n",
    "class Employee:\n",
    "    \"\"\"A sample Employee class\"\"\"\n",
    "\n",
    "    raise_amt = 1.05\n",
    "\n",
    "    def __init__(self, first, last, pay):\n",
    "        self.first = first\n",
    "        self.last = last\n",
    "        self.pay = pay\n",
    "\n",
    "    @property\n",
    "    def email(self):\n",
    "        return '{}.{}@email.com'.format(self.first, self.last)\n",
    "\n",
    "    @property\n",
    "    def fullname(self):\n",
    "        return '{} {}'.format(self.first, self.last)\n",
    "\n",
    "    def apply_raise(self):\n",
    "        self.pay = int(self.pay * self.raise_amt)\n"
   ]
  },
  {
   "cell_type": "code",
   "execution_count": 5,
   "metadata": {},
   "outputs": [
    {
     "name": "stderr",
     "output_type": "stream",
     "text": [
      "test_apply_raise (__main__.TestEmployee) ... ok\n",
      "test_email (__main__.TestEmployee) ... ok\n",
      "test_fullname (__main__.TestEmployee) ... ok\n",
      "test_add (__main__.TestNotebook) ... "
     ]
    },
    {
     "name": "stdout",
     "output_type": "stream",
     "text": [
      "setupClass\n",
      "setUp\n",
      "test_apply_raise\n",
      "tearDown\n",
      "\n",
      "setUp\n",
      "test_email\n",
      "tearDown\n",
      "\n",
      "setUp\n",
      "test_fullname\n",
      "tearDown\n",
      "\n",
      "teardownClass\n"
     ]
    },
    {
     "name": "stderr",
     "output_type": "stream",
     "text": [
      "FAIL\n",
      "\n",
      "======================================================================\n",
      "FAIL: test_add (__main__.TestNotebook)\n",
      "----------------------------------------------------------------------\n",
      "Traceback (most recent call last):\n",
      "  File \"<ipython-input-3-3c7fcaf6ec27>\", line 6, in test_add\n",
      "    self.assertEqual(add(2, 2), 5)\n",
      "AssertionError: 4 != 5\n",
      "\n",
      "----------------------------------------------------------------------\n",
      "Ran 4 tests in 0.006s\n",
      "\n",
      "FAILED (failures=1)\n"
     ]
    },
    {
     "data": {
      "text/plain": [
       "<unittest.main.TestProgram at 0x2ffd916648>"
      ]
     },
     "execution_count": 5,
     "metadata": {},
     "output_type": "execute_result"
    }
   ],
   "source": [
    "import unittest\n",
    "from unittest.mock import patch\n",
    "\n",
    "class TestEmployee(unittest.TestCase):\n",
    "\n",
    "    @classmethod\n",
    "    def setUpClass(cls):\n",
    "        print('setupClass')\n",
    "\n",
    "    @classmethod\n",
    "    def tearDownClass(cls):\n",
    "        print('teardownClass')\n",
    "\n",
    "    def setUp(self):\n",
    "        print('setUp')\n",
    "        self.emp_1 = Employee('Corey', 'Schafer', 50000)\n",
    "        self.emp_2 = Employee('Sue', 'Smith', 60000)\n",
    "\n",
    "    def tearDown(self):\n",
    "        print('tearDown\\n')\n",
    "\n",
    "    def test_email(self):\n",
    "        print('test_email')\n",
    "        self.assertEqual(self.emp_1.email, 'Corey.Schafer@email.com')\n",
    "        self.assertEqual(self.emp_2.email, 'Sue.Smith@email.com')\n",
    "\n",
    "        self.emp_1.first = 'John'\n",
    "        self.emp_2.first = 'Jane'\n",
    "\n",
    "        self.assertEqual(self.emp_1.email, 'John.Schafer@email.com')\n",
    "        self.assertEqual(self.emp_2.email, 'Jane.Smith@email.com')\n",
    "\n",
    "    def test_fullname(self):\n",
    "        print('test_fullname')\n",
    "        self.assertEqual(self.emp_1.fullname, 'Corey Schafer')\n",
    "        self.assertEqual(self.emp_2.fullname, 'Sue Smith')\n",
    "\n",
    "        self.emp_1.first = 'John'\n",
    "        self.emp_2.first = 'Jane'\n",
    "\n",
    "        self.assertEqual(self.emp_1.fullname, 'John Schafer')\n",
    "        self.assertEqual(self.emp_2.fullname, 'Jane Smith')\n",
    "\n",
    "    def test_apply_raise(self):\n",
    "        print('test_apply_raise')\n",
    "        self.emp_1.apply_raise()\n",
    "        self.emp_2.apply_raise()\n",
    "\n",
    "        self.assertEqual(self.emp_1.pay, 52500)\n",
    "        self.assertEqual(self.emp_2.pay, 63000)\n",
    "\n",
    "\n",
    "#Only if you are running just python files\n",
    "# if __name__ == '__main__':\n",
    "#     unittest.main()\n",
    "\n",
    "unittest.main(argv=[''], verbosity=2, exit=False)"
   ]
  },
  {
   "cell_type": "code",
   "execution_count": null,
   "metadata": {},
   "outputs": [],
   "source": []
  }
 ],
 "metadata": {
  "kernelspec": {
   "display_name": "Python 3",
   "language": "python",
   "name": "python3"
  },
  "language_info": {
   "codemirror_mode": {
    "name": "ipython",
    "version": 3
   },
   "file_extension": ".py",
   "mimetype": "text/x-python",
   "name": "python",
   "nbconvert_exporter": "python",
   "pygments_lexer": "ipython3",
   "version": "3.7.4"
  }
 },
 "nbformat": 4,
 "nbformat_minor": 4
}
